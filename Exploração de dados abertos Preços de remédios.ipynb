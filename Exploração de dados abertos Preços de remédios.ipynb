{
 "cells": [
  {
   "cell_type": "markdown",
   "metadata": {},
   "source": [
    "<h1> Exploração de dados abertos: Preços de remédios</h1>"
   ]
  },
  {
   "cell_type": "code",
   "execution_count": 1,
   "metadata": {},
   "outputs": [],
   "source": [
    "\n",
    "import pandas as pd\n",
    "\n",
    "remedios = pd.read_csv(\n",
    "    'TA_PRECOS_MEDICAMENTOS.csv', \n",
    "    delimiter=\"|\", \n",
    "    decimal=\",\", \n",
    "    encoding=\"latin1\",\n",
    "    header=None,\n",
    "    error_bad_lines=False,\n",
    "    low_memory=False)\n"
   ]
  },
  {
   "cell_type": "markdown",
   "metadata": {},
   "source": [
    "Head dos 5 primeiros registro da tabela com todos as colunas "
   ]
  },
  {
   "cell_type": "code",
   "execution_count": 2,
   "metadata": {},
   "outputs": [
    {
     "data": {
      "text/html": [
       "<div>\n",
       "<style>\n",
       "    .dataframe thead tr:only-child th {\n",
       "        text-align: right;\n",
       "    }\n",
       "\n",
       "    .dataframe thead th {\n",
       "        text-align: left;\n",
       "    }\n",
       "\n",
       "    .dataframe tbody tr th {\n",
       "        vertical-align: top;\n",
       "    }\n",
       "</style>\n",
       "<table border=\"1\" class=\"dataframe\">\n",
       "  <thead>\n",
       "    <tr style=\"text-align: right;\">\n",
       "      <th></th>\n",
       "      <th>0</th>\n",
       "      <th>1</th>\n",
       "      <th>2</th>\n",
       "      <th>3</th>\n",
       "      <th>4</th>\n",
       "      <th>5</th>\n",
       "      <th>6</th>\n",
       "      <th>7</th>\n",
       "      <th>8</th>\n",
       "      <th>9</th>\n",
       "      <th>10</th>\n",
       "      <th>11</th>\n",
       "      <th>12</th>\n",
       "      <th>13</th>\n",
       "      <th>14</th>\n",
       "      <th>15</th>\n",
       "    </tr>\n",
       "  </thead>\n",
       "  <tbody>\n",
       "    <tr>\n",
       "      <th>0</th>\n",
       "      <td>NU_CNPJ</td>\n",
       "      <td>NO_RAZAO_SOCIAL</td>\n",
       "      <td>NU_REGISTRO</td>\n",
       "      <td>CO_GGREM</td>\n",
       "      <td>CO_EAN</td>\n",
       "      <td>NO_PRODUTO</td>\n",
       "      <td>DS_APRESENTACAO</td>\n",
       "      <td>DS_CAS</td>\n",
       "      <td>DS_SUBSTANCIA</td>\n",
       "      <td>TP_PRODUTO</td>\n",
       "      <td>TP_LCCT</td>\n",
       "      <td>ST_REST_HOSP</td>\n",
       "      <td>ST_CAP</td>\n",
       "      <td>ST_CONFAZ87</td>\n",
       "      <td>NU_PF0_INTEIRO</td>\n",
       "      <td>NU_PF18_INTEIRO</td>\n",
       "    </tr>\n",
       "    <tr>\n",
       "      <th>1</th>\n",
       "      <td>60726692000181</td>\n",
       "      <td>MARJAN INDÚSTRIA E COMÉRCIO LTDA</td>\n",
       "      <td>1015501950021</td>\n",
       "      <td>524801802112410</td>\n",
       "      <td>7896226102634</td>\n",
       "      <td>OSTENAN</td>\n",
       "      <td>10 MG COMP REV CX COM 30</td>\n",
       "      <td>121268-17-5</td>\n",
       "      <td>ALENDRONATO DE SÓDIO TRI-HIDRATADO</td>\n",
       "      <td>4</td>\n",
       "      <td>N</td>\n",
       "      <td>N</td>\n",
       "      <td>N</td>\n",
       "      <td>N</td>\n",
       "      <td>NaN</td>\n",
       "      <td>76</td>\n",
       "    </tr>\n",
       "    <tr>\n",
       "      <th>2</th>\n",
       "      <td>60726692000181</td>\n",
       "      <td>MARJAN INDÚSTRIA E COMÉRCIO LTDA</td>\n",
       "      <td>1015501950072</td>\n",
       "      <td>524801801116412</td>\n",
       "      <td>7896226102627</td>\n",
       "      <td>OSTENAN</td>\n",
       "      <td>10 MG COMP REV CX COM 15</td>\n",
       "      <td>121268-17-5</td>\n",
       "      <td>ALENDRONATO DE SÓDIO TRI-HIDRATADO</td>\n",
       "      <td>4</td>\n",
       "      <td>N</td>\n",
       "      <td>N</td>\n",
       "      <td>N</td>\n",
       "      <td>N</td>\n",
       "      <td>NaN</td>\n",
       "      <td>38</td>\n",
       "    </tr>\n",
       "    <tr>\n",
       "      <th>3</th>\n",
       "      <td>04038750000103</td>\n",
       "      <td>LIBRA COMERCIO DE PRODUTOS FARMACEUTICOS LTDA</td>\n",
       "      <td>1206900220020</td>\n",
       "      <td>523803802154416</td>\n",
       "      <td>7730711011233</td>\n",
       "      <td>TEICOPLANINA</td>\n",
       "      <td>400 MG PÓ LIOFILIZADO SOL INJ CX C/ 1 FR/AMP X...</td>\n",
       "      <td>99999-99-9</td>\n",
       "      <td>NC/NI</td>\n",
       "      <td>1</td>\n",
       "      <td>I</td>\n",
       "      <td>N</td>\n",
       "      <td>N</td>\n",
       "      <td>N</td>\n",
       "      <td>0</td>\n",
       "      <td>296</td>\n",
       "    </tr>\n",
       "    <tr>\n",
       "      <th>4</th>\n",
       "      <td>60726692000181</td>\n",
       "      <td>MARJAN INDÚSTRIA E COMÉRCIO LTDA</td>\n",
       "      <td>1015500410028</td>\n",
       "      <td>524800102133425</td>\n",
       "      <td>7896226100449</td>\n",
       "      <td>AMBROTEN</td>\n",
       "      <td>XPE ADU FR COM 100ML</td>\n",
       "      <td>18683-91-5</td>\n",
       "      <td>ambroxol</td>\n",
       "      <td>4</td>\n",
       "      <td>N</td>\n",
       "      <td>N</td>\n",
       "      <td>N</td>\n",
       "      <td>N</td>\n",
       "      <td>0</td>\n",
       "      <td>13</td>\n",
       "    </tr>\n",
       "  </tbody>\n",
       "</table>\n",
       "</div>"
      ],
      "text/plain": [
       "               0                                              1   \\\n",
       "0         NU_CNPJ                                NO_RAZAO_SOCIAL   \n",
       "1  60726692000181               MARJAN INDÚSTRIA E COMÉRCIO LTDA   \n",
       "2  60726692000181               MARJAN INDÚSTRIA E COMÉRCIO LTDA   \n",
       "3  04038750000103  LIBRA COMERCIO DE PRODUTOS FARMACEUTICOS LTDA   \n",
       "4  60726692000181               MARJAN INDÚSTRIA E COMÉRCIO LTDA   \n",
       "\n",
       "              2                3              4             5   \\\n",
       "0    NU_REGISTRO         CO_GGREM         CO_EAN    NO_PRODUTO   \n",
       "1  1015501950021  524801802112410  7896226102634       OSTENAN   \n",
       "2  1015501950072  524801801116412  7896226102627       OSTENAN   \n",
       "3  1206900220020  523803802154416  7730711011233  TEICOPLANINA   \n",
       "4  1015500410028  524800102133425  7896226100449      AMBROTEN   \n",
       "\n",
       "                                                  6            7   \\\n",
       "0                                    DS_APRESENTACAO       DS_CAS   \n",
       "1                           10 MG COMP REV CX COM 30  121268-17-5   \n",
       "2                           10 MG COMP REV CX COM 15  121268-17-5   \n",
       "3  400 MG PÓ LIOFILIZADO SOL INJ CX C/ 1 FR/AMP X...   99999-99-9   \n",
       "4                               XPE ADU FR COM 100ML   18683-91-5   \n",
       "\n",
       "                                   8           9        10            11  \\\n",
       "0                       DS_SUBSTANCIA  TP_PRODUTO  TP_LCCT  ST_REST_HOSP   \n",
       "1  ALENDRONATO DE SÓDIO TRI-HIDRATADO           4        N             N   \n",
       "2  ALENDRONATO DE SÓDIO TRI-HIDRATADO           4        N             N   \n",
       "3                               NC/NI           1        I             N   \n",
       "4                            ambroxol           4        N             N   \n",
       "\n",
       "       12           13              14               15  \n",
       "0  ST_CAP  ST_CONFAZ87  NU_PF0_INTEIRO  NU_PF18_INTEIRO  \n",
       "1       N            N             NaN               76  \n",
       "2       N            N             NaN               38  \n",
       "3       N            N               0              296  \n",
       "4       N            N               0               13  "
      ]
     },
     "execution_count": 2,
     "metadata": {},
     "output_type": "execute_result"
    }
   ],
   "source": [
    "remedios.head(5)"
   ]
  },
  {
   "cell_type": "markdown",
   "metadata": {},
   "source": [
    "<b>número e nome das colunas <b>"
   ]
  },
  {
   "cell_type": "code",
   "execution_count": 3,
   "metadata": {},
   "outputs": [
    {
     "data": {
      "text/plain": [
       "0             NU_CNPJ\n",
       "1     NO_RAZAO_SOCIAL\n",
       "2         NU_REGISTRO\n",
       "3            CO_GGREM\n",
       "4              CO_EAN\n",
       "5          NO_PRODUTO\n",
       "6     DS_APRESENTACAO\n",
       "7              DS_CAS\n",
       "8       DS_SUBSTANCIA\n",
       "9          TP_PRODUTO\n",
       "10            TP_LCCT\n",
       "11       ST_REST_HOSP\n",
       "12             ST_CAP\n",
       "13        ST_CONFAZ87\n",
       "14     NU_PF0_INTEIRO\n",
       "15    NU_PF18_INTEIRO\n",
       "Name: 0, dtype: object"
      ]
     },
     "execution_count": 3,
     "metadata": {},
     "output_type": "execute_result"
    }
   ],
   "source": [
    "remedios.iloc[0]"
   ]
  },
  {
   "cell_type": "code",
   "execution_count": 4,
   "metadata": {},
   "outputs": [
    {
     "data": {
      "text/plain": [
       "Int64Index([0, 1, 2, 3, 4, 5, 6, 7, 8, 9, 10, 11, 12, 13, 14, 15], dtype='int64')"
      ]
     },
     "execution_count": 4,
     "metadata": {},
     "output_type": "execute_result"
    }
   ],
   "source": [
    "remedios.columns"
   ]
  },
  {
   "cell_type": "code",
   "execution_count": 5,
   "metadata": {
    "collapsed": true
   },
   "outputs": [],
   "source": [
    "remediosA = pd.DataFrame(remedios,columns=[5,8,9,14,15])\n",
    "remediosA.columns = ['Nome do produto', 'Substância', 'Tipo de medicamento','NU_PF0_INTEIRO','NU_PF18_INTEIRO']"
   ]
  },
  {
   "cell_type": "markdown",
   "metadata": {},
   "source": [
    "Tabela reduzida a: <b>nome do produto, Nome da Substância, Tipo do produto, preço Fábrica de teto permitido para a comercialização com isenção do imposto de ICMS e preço Fábrica de teto permitido para a comercialização sem isenção do imposto de\n",
    "ICMS.   <b>"
   ]
  },
  {
   "cell_type": "code",
   "execution_count": 6,
   "metadata": {},
   "outputs": [
    {
     "data": {
      "text/html": [
       "<div>\n",
       "<style>\n",
       "    .dataframe thead tr:only-child th {\n",
       "        text-align: right;\n",
       "    }\n",
       "\n",
       "    .dataframe thead th {\n",
       "        text-align: left;\n",
       "    }\n",
       "\n",
       "    .dataframe tbody tr th {\n",
       "        vertical-align: top;\n",
       "    }\n",
       "</style>\n",
       "<table border=\"1\" class=\"dataframe\">\n",
       "  <thead>\n",
       "    <tr style=\"text-align: right;\">\n",
       "      <th></th>\n",
       "      <th>Nome do produto</th>\n",
       "      <th>Substância</th>\n",
       "      <th>Tipo de medicamento</th>\n",
       "      <th>NU_PF0_INTEIRO</th>\n",
       "      <th>NU_PF18_INTEIRO</th>\n",
       "    </tr>\n",
       "  </thead>\n",
       "  <tbody>\n",
       "    <tr>\n",
       "      <th>0</th>\n",
       "      <td>NO_PRODUTO</td>\n",
       "      <td>DS_SUBSTANCIA</td>\n",
       "      <td>TP_PRODUTO</td>\n",
       "      <td>NU_PF0_INTEIRO</td>\n",
       "      <td>NU_PF18_INTEIRO</td>\n",
       "    </tr>\n",
       "    <tr>\n",
       "      <th>1</th>\n",
       "      <td>OSTENAN</td>\n",
       "      <td>ALENDRONATO DE SÓDIO TRI-HIDRATADO</td>\n",
       "      <td>4</td>\n",
       "      <td>NaN</td>\n",
       "      <td>76</td>\n",
       "    </tr>\n",
       "    <tr>\n",
       "      <th>2</th>\n",
       "      <td>OSTENAN</td>\n",
       "      <td>ALENDRONATO DE SÓDIO TRI-HIDRATADO</td>\n",
       "      <td>4</td>\n",
       "      <td>NaN</td>\n",
       "      <td>38</td>\n",
       "    </tr>\n",
       "    <tr>\n",
       "      <th>3</th>\n",
       "      <td>TEICOPLANINA</td>\n",
       "      <td>NC/NI</td>\n",
       "      <td>1</td>\n",
       "      <td>0</td>\n",
       "      <td>296</td>\n",
       "    </tr>\n",
       "    <tr>\n",
       "      <th>4</th>\n",
       "      <td>AMBROTEN</td>\n",
       "      <td>ambroxol</td>\n",
       "      <td>4</td>\n",
       "      <td>0</td>\n",
       "      <td>13</td>\n",
       "    </tr>\n",
       "    <tr>\n",
       "      <th>5</th>\n",
       "      <td>OXALIPLATINA</td>\n",
       "      <td>NC/NI</td>\n",
       "      <td>1</td>\n",
       "      <td>0</td>\n",
       "      <td>1187</td>\n",
       "    </tr>\n",
       "    <tr>\n",
       "      <th>6</th>\n",
       "      <td>LIBRACTAM</td>\n",
       "      <td>NC/NI</td>\n",
       "      <td>4</td>\n",
       "      <td>0</td>\n",
       "      <td>0</td>\n",
       "    </tr>\n",
       "    <tr>\n",
       "      <th>7</th>\n",
       "      <td>LIBRATECAM</td>\n",
       "      <td>NC/NI</td>\n",
       "      <td>4</td>\n",
       "      <td>0</td>\n",
       "      <td>0</td>\n",
       "    </tr>\n",
       "  </tbody>\n",
       "</table>\n",
       "</div>"
      ],
      "text/plain": [
       "  Nome do produto                          Substância Tipo de medicamento  \\\n",
       "0      NO_PRODUTO                       DS_SUBSTANCIA          TP_PRODUTO   \n",
       "1         OSTENAN  ALENDRONATO DE SÓDIO TRI-HIDRATADO                   4   \n",
       "2         OSTENAN  ALENDRONATO DE SÓDIO TRI-HIDRATADO                   4   \n",
       "3    TEICOPLANINA                               NC/NI                   1   \n",
       "4        AMBROTEN                            ambroxol                   4   \n",
       "5    OXALIPLATINA                               NC/NI                   1   \n",
       "6       LIBRACTAM                               NC/NI                   4   \n",
       "7      LIBRATECAM                               NC/NI                   4   \n",
       "\n",
       "   NU_PF0_INTEIRO  NU_PF18_INTEIRO  \n",
       "0  NU_PF0_INTEIRO  NU_PF18_INTEIRO  \n",
       "1             NaN               76  \n",
       "2             NaN               38  \n",
       "3               0              296  \n",
       "4               0               13  \n",
       "5               0             1187  \n",
       "6               0                0  \n",
       "7               0                0  "
      ]
     },
     "execution_count": 6,
     "metadata": {},
     "output_type": "execute_result"
    }
   ],
   "source": [
    "remediosA.head(8)"
   ]
  },
  {
   "cell_type": "code",
   "execution_count": 9,
   "metadata": {},
   "outputs": [
    {
     "name": "stdout",
     "output_type": "stream",
     "text": [
      "['NO_PRODUTO' 'OSTENAN' 'TEICOPLANINA' ..., 'DIPRIVAN' 'SOLU-MEDROL'\n",
      " 'ANDES'] ['DS_SUBSTANCIA' 'ALENDRONATO DE SÓDIO TRI-HIDRATADO' 'NC/NI' ...,\n",
      " 'NUSINERSENA' 'cloridrato de metformina;SAXAGLIPTINA'\n",
      " 'hidroxizina;dicloridrato de hidroxizina;CLORIDRATO DE HIDROXIZINA']\n"
     ]
    }
   ],
   "source": [
    "listaNomes = remediosA['Nome do produto'].unique()\n",
    "listaSubstancia = remediosA['Substância'].unique()\n",
    "\n",
    "print(listaNomes,listaSubstancia)\n"
   ]
  },
  {
   "cell_type": "markdown",
   "metadata": {},
   "source": [
    "<H2><i> quantidade de medicamentos fitoterápicos registrados<i></H2>"
   ]
  },
  {
   "cell_type": "code",
   "execution_count": 16,
   "metadata": {},
   "outputs": [
    {
     "data": {
      "text/plain": [
       "281"
      ]
     },
     "execution_count": 16,
     "metadata": {},
     "output_type": "execute_result"
    }
   ],
   "source": [
    "fitoterapicos = remediosA[(remediosA['Tipo de medicamento']=='9')]\n",
    "len(fitoterapicos['Nome do produto'].unique())\n"
   ]
  },
  {
   "cell_type": "code",
   "execution_count": 17,
   "metadata": {},
   "outputs": [
    {
     "data": {
      "text/html": [
       "<div>\n",
       "<style>\n",
       "    .dataframe thead tr:only-child th {\n",
       "        text-align: right;\n",
       "    }\n",
       "\n",
       "    .dataframe thead th {\n",
       "        text-align: left;\n",
       "    }\n",
       "\n",
       "    .dataframe tbody tr th {\n",
       "        vertical-align: top;\n",
       "    }\n",
       "</style>\n",
       "<table border=\"1\" class=\"dataframe\">\n",
       "  <thead>\n",
       "    <tr style=\"text-align: right;\">\n",
       "      <th></th>\n",
       "      <th>Nome do produto</th>\n",
       "      <th>Substância</th>\n",
       "      <th>Tipo de medicamento</th>\n",
       "      <th>NU_PF0_INTEIRO</th>\n",
       "      <th>NU_PF18_INTEIRO</th>\n",
       "    </tr>\n",
       "  </thead>\n",
       "  <tbody>\n",
       "    <tr>\n",
       "      <th>23</th>\n",
       "      <td>ALCAFLOR</td>\n",
       "      <td>NC/NI</td>\n",
       "      <td>9</td>\n",
       "      <td>0</td>\n",
       "      <td>18</td>\n",
       "    </tr>\n",
       "    <tr>\n",
       "      <th>184</th>\n",
       "      <td>CHOPHYTOL</td>\n",
       "      <td>NC/NI</td>\n",
       "      <td>9</td>\n",
       "      <td>0</td>\n",
       "      <td>44</td>\n",
       "    </tr>\n",
       "    <tr>\n",
       "      <th>186</th>\n",
       "      <td>BINKO</td>\n",
       "      <td>NC/NI</td>\n",
       "      <td>9</td>\n",
       "      <td>0</td>\n",
       "      <td>43</td>\n",
       "    </tr>\n",
       "    <tr>\n",
       "      <th>269</th>\n",
       "      <td>LEVEDO</td>\n",
       "      <td>sulfato ferroso</td>\n",
       "      <td>9</td>\n",
       "      <td>0</td>\n",
       "      <td>9</td>\n",
       "    </tr>\n",
       "    <tr>\n",
       "      <th>273</th>\n",
       "      <td>VALERIN</td>\n",
       "      <td>NC/NI</td>\n",
       "      <td>9</td>\n",
       "      <td>0</td>\n",
       "      <td>27</td>\n",
       "    </tr>\n",
       "    <tr>\n",
       "      <th>275</th>\n",
       "      <td>LECITINA DE SOJA</td>\n",
       "      <td>lecitina de soja</td>\n",
       "      <td>9</td>\n",
       "      <td>0</td>\n",
       "      <td>21</td>\n",
       "    </tr>\n",
       "    <tr>\n",
       "      <th>279</th>\n",
       "      <td>GINSENG</td>\n",
       "      <td>NC/NI</td>\n",
       "      <td>9</td>\n",
       "      <td>0</td>\n",
       "      <td>17</td>\n",
       "    </tr>\n",
       "  </tbody>\n",
       "</table>\n",
       "</div>"
      ],
      "text/plain": [
       "      Nome do produto        Substância Tipo de medicamento NU_PF0_INTEIRO  \\\n",
       "23           ALCAFLOR             NC/NI                   9              0   \n",
       "184         CHOPHYTOL             NC/NI                   9              0   \n",
       "186             BINKO             NC/NI                   9              0   \n",
       "269            LEVEDO   sulfato ferroso                   9              0   \n",
       "273           VALERIN             NC/NI                   9              0   \n",
       "275  LECITINA DE SOJA  lecitina de soja                   9              0   \n",
       "279           GINSENG             NC/NI                   9              0   \n",
       "\n",
       "    NU_PF18_INTEIRO  \n",
       "23               18  \n",
       "184              44  \n",
       "186              43  \n",
       "269               9  \n",
       "273              27  \n",
       "275              21  \n",
       "279              17  "
      ]
     },
     "execution_count": 17,
     "metadata": {},
     "output_type": "execute_result"
    }
   ],
   "source": [
    "fitoterapicos.head(7)"
   ]
  },
  {
   "cell_type": "markdown",
   "metadata": {},
   "source": [
    "<H2><i> quantidade de radiofármacos registrados <i></H2>"
   ]
  },
  {
   "cell_type": "code",
   "execution_count": 12,
   "metadata": {},
   "outputs": [
    {
     "data": {
      "text/plain": [
       "1"
      ]
     },
     "execution_count": 12,
     "metadata": {},
     "output_type": "execute_result"
    }
   ],
   "source": [
    "radiofarmacos = remediosA[(remediosA['Tipo de medicamento']=='10')]\n",
    "len(radiofarmacos['Nome do produto'].unique())"
   ]
  },
  {
   "cell_type": "code",
   "execution_count": 13,
   "metadata": {},
   "outputs": [
    {
     "data": {
      "text/html": [
       "<div>\n",
       "<style>\n",
       "    .dataframe thead tr:only-child th {\n",
       "        text-align: right;\n",
       "    }\n",
       "\n",
       "    .dataframe thead th {\n",
       "        text-align: left;\n",
       "    }\n",
       "\n",
       "    .dataframe tbody tr th {\n",
       "        vertical-align: top;\n",
       "    }\n",
       "</style>\n",
       "<table border=\"1\" class=\"dataframe\">\n",
       "  <thead>\n",
       "    <tr style=\"text-align: right;\">\n",
       "      <th></th>\n",
       "      <th>Nome do produto</th>\n",
       "      <th>Substância</th>\n",
       "      <th>Tipo de medicamento</th>\n",
       "      <th>NU_PF0_INTEIRO</th>\n",
       "      <th>NU_PF18_INTEIRO</th>\n",
       "    </tr>\n",
       "  </thead>\n",
       "  <tbody>\n",
       "    <tr>\n",
       "      <th>43581</th>\n",
       "      <td>XOFIGO</td>\n",
       "      <td>cloreto de rádio (223 Ra)</td>\n",
       "      <td>10</td>\n",
       "      <td>NaN</td>\n",
       "      <td>18642</td>\n",
       "    </tr>\n",
       "    <tr>\n",
       "      <th>46608</th>\n",
       "      <td>XOFIGO</td>\n",
       "      <td>cloreto de rádio (223 Ra)</td>\n",
       "      <td>10</td>\n",
       "      <td>NaN</td>\n",
       "      <td>18896</td>\n",
       "    </tr>\n",
       "  </tbody>\n",
       "</table>\n",
       "</div>"
      ],
      "text/plain": [
       "      Nome do produto                 Substância Tipo de medicamento  \\\n",
       "43581          XOFIGO  cloreto de rádio (223 Ra)                  10   \n",
       "46608          XOFIGO  cloreto de rádio (223 Ra)                  10   \n",
       "\n",
       "      NU_PF0_INTEIRO NU_PF18_INTEIRO  \n",
       "43581            NaN           18642  \n",
       "46608            NaN           18896  "
      ]
     },
     "execution_count": 13,
     "metadata": {},
     "output_type": "execute_result"
    }
   ],
   "source": [
    "radiofarmacos.head()"
   ]
  },
  {
   "cell_type": "markdown",
   "metadata": {},
   "source": [
    "<H2><i> quantidade de Genéricos registrados <i></H2>"
   ]
  },
  {
   "cell_type": "code",
   "execution_count": 26,
   "metadata": {},
   "outputs": [
    {
     "data": {
      "text/plain": [
       "1054"
      ]
     },
     "execution_count": 26,
     "metadata": {},
     "output_type": "execute_result"
    }
   ],
   "source": [
    "genericos = remediosA[(remediosA['Tipo de medicamento']=='1')]\n",
    "len(genericos['Nome do produto'].unique())"
   ]
  },
  {
   "cell_type": "code",
   "execution_count": 33,
   "metadata": {},
   "outputs": [
    {
     "data": {
      "text/html": [
       "<div>\n",
       "<style>\n",
       "    .dataframe thead tr:only-child th {\n",
       "        text-align: right;\n",
       "    }\n",
       "\n",
       "    .dataframe thead th {\n",
       "        text-align: left;\n",
       "    }\n",
       "\n",
       "    .dataframe tbody tr th {\n",
       "        vertical-align: top;\n",
       "    }\n",
       "</style>\n",
       "<table border=\"1\" class=\"dataframe\">\n",
       "  <thead>\n",
       "    <tr style=\"text-align: right;\">\n",
       "      <th></th>\n",
       "      <th>Nome do produto</th>\n",
       "      <th>Substância</th>\n",
       "      <th>Tipo de medicamento</th>\n",
       "      <th>NU_PF0_INTEIRO</th>\n",
       "      <th>NU_PF18_INTEIRO</th>\n",
       "    </tr>\n",
       "  </thead>\n",
       "  <tbody>\n",
       "    <tr>\n",
       "      <th>3</th>\n",
       "      <td>TEICOPLANINA</td>\n",
       "      <td>NC/NI</td>\n",
       "      <td>1</td>\n",
       "      <td>0</td>\n",
       "      <td>296</td>\n",
       "    </tr>\n",
       "    <tr>\n",
       "      <th>5</th>\n",
       "      <td>OXALIPLATINA</td>\n",
       "      <td>NC/NI</td>\n",
       "      <td>1</td>\n",
       "      <td>0</td>\n",
       "      <td>1187</td>\n",
       "    </tr>\n",
       "    <tr>\n",
       "      <th>11</th>\n",
       "      <td>TEICOPLANINA</td>\n",
       "      <td>NC/NI</td>\n",
       "      <td>1</td>\n",
       "      <td>0</td>\n",
       "      <td>148</td>\n",
       "    </tr>\n",
       "    <tr>\n",
       "      <th>12</th>\n",
       "      <td>OXALIPLATINA</td>\n",
       "      <td>NC/NI</td>\n",
       "      <td>1</td>\n",
       "      <td>0</td>\n",
       "      <td>2374</td>\n",
       "    </tr>\n",
       "    <tr>\n",
       "      <th>14</th>\n",
       "      <td>PACLITAXEL</td>\n",
       "      <td>NC/NI</td>\n",
       "      <td>1</td>\n",
       "      <td>0</td>\n",
       "      <td>4122</td>\n",
       "    </tr>\n",
       "    <tr>\n",
       "      <th>15</th>\n",
       "      <td>PACLITAXEL</td>\n",
       "      <td>NC/NI</td>\n",
       "      <td>1</td>\n",
       "      <td>0</td>\n",
       "      <td>1389</td>\n",
       "    </tr>\n",
       "    <tr>\n",
       "      <th>98</th>\n",
       "      <td>DOCETAXEL</td>\n",
       "      <td>NC/NI</td>\n",
       "      <td>1</td>\n",
       "      <td>0</td>\n",
       "      <td>2121</td>\n",
       "    </tr>\n",
       "    <tr>\n",
       "      <th>103</th>\n",
       "      <td>MEBENDAZOL</td>\n",
       "      <td>mebendazol</td>\n",
       "      <td>1</td>\n",
       "      <td>0</td>\n",
       "      <td>0</td>\n",
       "    </tr>\n",
       "    <tr>\n",
       "      <th>106</th>\n",
       "      <td>ATENOLOL</td>\n",
       "      <td>atenolol</td>\n",
       "      <td>1</td>\n",
       "      <td>0</td>\n",
       "      <td>19</td>\n",
       "    </tr>\n",
       "    <tr>\n",
       "      <th>124</th>\n",
       "      <td>CITRATO DE SILDENAFILA</td>\n",
       "      <td>citrato de sildenafila</td>\n",
       "      <td>1</td>\n",
       "      <td>NaN</td>\n",
       "      <td>24</td>\n",
       "    </tr>\n",
       "  </tbody>\n",
       "</table>\n",
       "</div>"
      ],
      "text/plain": [
       "            Nome do produto              Substância Tipo de medicamento  \\\n",
       "3              TEICOPLANINA                   NC/NI                   1   \n",
       "5              OXALIPLATINA                   NC/NI                   1   \n",
       "11             TEICOPLANINA                   NC/NI                   1   \n",
       "12             OXALIPLATINA                   NC/NI                   1   \n",
       "14               PACLITAXEL                   NC/NI                   1   \n",
       "15               PACLITAXEL                   NC/NI                   1   \n",
       "98                DOCETAXEL                   NC/NI                   1   \n",
       "103              MEBENDAZOL              mebendazol                   1   \n",
       "106                ATENOLOL                atenolol                   1   \n",
       "124  CITRATO DE SILDENAFILA  citrato de sildenafila                   1   \n",
       "\n",
       "    NU_PF0_INTEIRO NU_PF18_INTEIRO  \n",
       "3                0             296  \n",
       "5                0            1187  \n",
       "11               0             148  \n",
       "12               0            2374  \n",
       "14               0            4122  \n",
       "15               0            1389  \n",
       "98               0            2121  \n",
       "103              0               0  \n",
       "106              0              19  \n",
       "124            NaN              24  "
      ]
     },
     "execution_count": 33,
     "metadata": {},
     "output_type": "execute_result"
    }
   ],
   "source": [
    "genericos.head(10)"
   ]
  },
  {
   "cell_type": "code",
   "execution_count": 34,
   "metadata": {
    "collapsed": true
   },
   "outputs": [],
   "source": [
    "tiposderemedio = ['GENÉRICO','PATENTE', 'REFERÊNCIA', 'SIMILAR', 'NOVO', 'ESPECÍFICO', 'BIOLÓGICOS','DINAMIZADO','FITOTERÁPICO' , 'RADIOFÁRMACO', 'BIOLÓGICOS NOVOS']"
   ]
  },
  {
   "cell_type": "markdown",
   "metadata": {},
   "source": [
    "<h3><b> Tipos de medicamentos<b></h3> <h4>Iniciando a renomeação da coluna 10 'Tipo de medicamento' </h4>"
   ]
  },
  {
   "cell_type": "code",
   "execution_count": 35,
   "metadata": {},
   "outputs": [
    {
     "data": {
      "text/plain": [
       "['GENÉRICO',\n",
       " 'PATENTE',\n",
       " 'REFERÊNCIA',\n",
       " 'SIMILAR',\n",
       " 'NOVO',\n",
       " 'ESPECÍFICO',\n",
       " 'BIOLÓGICOS',\n",
       " 'DINAMIZADO',\n",
       " 'FITOTERÁPICO',\n",
       " 'RADIOFÁRMACO',\n",
       " 'BIOLÓGICOS NOVOS']"
      ]
     },
     "execution_count": 35,
     "metadata": {},
     "output_type": "execute_result"
    }
   ],
   "source": [
    "tiposderemedio"
   ]
  },
  {
   "cell_type": "code",
   "execution_count": 36,
   "metadata": {
    "collapsed": true
   },
   "outputs": [],
   "source": [
    "remediosA['nome do tipo']=tiposderemedio[(remediosA['Tipo de medicamento']=='1')]"
   ]
  },
  {
   "cell_type": "code",
   "execution_count": 39,
   "metadata": {},
   "outputs": [
    {
     "data": {
      "text/html": [
       "<div>\n",
       "<style>\n",
       "    .dataframe thead tr:only-child th {\n",
       "        text-align: right;\n",
       "    }\n",
       "\n",
       "    .dataframe thead th {\n",
       "        text-align: left;\n",
       "    }\n",
       "\n",
       "    .dataframe tbody tr th {\n",
       "        vertical-align: top;\n",
       "    }\n",
       "</style>\n",
       "<table border=\"1\" class=\"dataframe\">\n",
       "  <thead>\n",
       "    <tr style=\"text-align: right;\">\n",
       "      <th></th>\n",
       "      <th>Nome do produto</th>\n",
       "      <th>Substância</th>\n",
       "      <th>Tipo de medicamento</th>\n",
       "      <th>NU_PF0_INTEIRO</th>\n",
       "      <th>NU_PF18_INTEIRO</th>\n",
       "      <th>nome do tipo</th>\n",
       "    </tr>\n",
       "  </thead>\n",
       "  <tbody>\n",
       "    <tr>\n",
       "      <th>0</th>\n",
       "      <td>NO_PRODUTO</td>\n",
       "      <td>DS_SUBSTANCIA</td>\n",
       "      <td>TP_PRODUTO</td>\n",
       "      <td>NU_PF0_INTEIRO</td>\n",
       "      <td>NU_PF18_INTEIRO</td>\n",
       "      <td>0</td>\n",
       "    </tr>\n",
       "    <tr>\n",
       "      <th>1</th>\n",
       "      <td>OSTENAN</td>\n",
       "      <td>ALENDRONATO DE SÓDIO TRI-HIDRATADO</td>\n",
       "      <td>4</td>\n",
       "      <td>NaN</td>\n",
       "      <td>76</td>\n",
       "      <td>0</td>\n",
       "    </tr>\n",
       "    <tr>\n",
       "      <th>2</th>\n",
       "      <td>OSTENAN</td>\n",
       "      <td>ALENDRONATO DE SÓDIO TRI-HIDRATADO</td>\n",
       "      <td>4</td>\n",
       "      <td>NaN</td>\n",
       "      <td>38</td>\n",
       "      <td>0</td>\n",
       "    </tr>\n",
       "    <tr>\n",
       "      <th>3</th>\n",
       "      <td>TEICOPLANINA</td>\n",
       "      <td>NC/NI</td>\n",
       "      <td>1</td>\n",
       "      <td>0</td>\n",
       "      <td>296</td>\n",
       "      <td>0</td>\n",
       "    </tr>\n",
       "    <tr>\n",
       "      <th>4</th>\n",
       "      <td>AMBROTEN</td>\n",
       "      <td>ambroxol</td>\n",
       "      <td>4</td>\n",
       "      <td>0</td>\n",
       "      <td>13</td>\n",
       "      <td>0</td>\n",
       "    </tr>\n",
       "    <tr>\n",
       "      <th>5</th>\n",
       "      <td>OXALIPLATINA</td>\n",
       "      <td>NC/NI</td>\n",
       "      <td>1</td>\n",
       "      <td>0</td>\n",
       "      <td>1187</td>\n",
       "      <td>0</td>\n",
       "    </tr>\n",
       "    <tr>\n",
       "      <th>6</th>\n",
       "      <td>LIBRACTAM</td>\n",
       "      <td>NC/NI</td>\n",
       "      <td>4</td>\n",
       "      <td>0</td>\n",
       "      <td>0</td>\n",
       "      <td>0</td>\n",
       "    </tr>\n",
       "  </tbody>\n",
       "</table>\n",
       "</div>"
      ],
      "text/plain": [
       "  Nome do produto                          Substância Tipo de medicamento  \\\n",
       "0      NO_PRODUTO                       DS_SUBSTANCIA          TP_PRODUTO   \n",
       "1         OSTENAN  ALENDRONATO DE SÓDIO TRI-HIDRATADO                   4   \n",
       "2         OSTENAN  ALENDRONATO DE SÓDIO TRI-HIDRATADO                   4   \n",
       "3    TEICOPLANINA                               NC/NI                   1   \n",
       "4        AMBROTEN                            ambroxol                   4   \n",
       "5    OXALIPLATINA                               NC/NI                   1   \n",
       "6       LIBRACTAM                               NC/NI                   4   \n",
       "\n",
       "   NU_PF0_INTEIRO  NU_PF18_INTEIRO  nome do tipo  \n",
       "0  NU_PF0_INTEIRO  NU_PF18_INTEIRO             0  \n",
       "1             NaN               76             0  \n",
       "2             NaN               38             0  \n",
       "3               0              296             0  \n",
       "4               0               13             0  \n",
       "5               0             1187             0  \n",
       "6               0                0             0  "
      ]
     },
     "execution_count": 39,
     "metadata": {},
     "output_type": "execute_result"
    }
   ],
   "source": [
    "remediosA.head(7)"
   ]
  },
  {
   "cell_type": "code",
   "execution_count": null,
   "metadata": {
    "collapsed": true
   },
   "outputs": [],
   "source": []
  }
 ],
 "metadata": {
  "kernelspec": {
   "display_name": "Python 3",
   "language": "python",
   "name": "python3"
  },
  "language_info": {
   "codemirror_mode": {
    "name": "ipython",
    "version": 3
   },
   "file_extension": ".py",
   "mimetype": "text/x-python",
   "name": "python",
   "nbconvert_exporter": "python",
   "pygments_lexer": "ipython3",
   "version": "3.6.3"
  }
 },
 "nbformat": 4,
 "nbformat_minor": 2
}
